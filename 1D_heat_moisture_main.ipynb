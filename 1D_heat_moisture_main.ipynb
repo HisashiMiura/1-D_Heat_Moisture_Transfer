{
 "cells": [
  {
   "cell_type": "code",
   "execution_count": 1,
   "metadata": {},
   "outputs": [
    {
     "name": "stdout",
     "output_type": "stream",
     "text": [
      "Importing Jupyter notebook from Flux.ipynb\n",
      "Importing Jupyter notebook from BalanceEquation.ipynb\n",
      "Importing Jupyter notebook from PropertyConversion.ipynb\n",
      "Importing Jupyter notebook from MoistureConversion.ipynb\n",
      "Importing Jupyter notebook from BentheimerSandstone.ipynb\n",
      "Importing Jupyter notebook from vanGenuchten.ipynb\n"
     ]
    }
   ],
   "source": [
    "import nbimporter\n",
    "import numpy as np\n",
    "import matplotlib.pyplot as plt\n",
    "import Flux\n",
    "import BalanceEquation\n",
    "import PropertyConversion as prop\n",
    "import MoistureConversion as mc"
   ]
  },
  {
   "cell_type": "markdown",
   "metadata": {},
   "source": [
    "### 1次元モデルの差分計算をするためのモデュール"
   ]
  },
  {
   "cell_type": "markdown",
   "metadata": {},
   "source": [
    "#### クラス：Cell( i )  \n",
    "セルの位置と各種情報を合致させるためのクラス  \n",
    "\n",
    "物理情報  \n",
    "・i：セルの位置    \n",
    "・dx：セルの大きさ  \n",
    "・material：材料の種類  \n",
    "\n",
    "環境情報  \n",
    "・temp：温度  \n",
    "・rh：相対湿度  \n",
    "・miu：水分化学ポテンシャル  \n",
    "・pv：水蒸気圧  \n",
    "\n",
    "物性情報  \n",
    "・crow：熱容量（比熱×密度）  \n",
    "・lam：熱伝達率  \n",
    "・phi：含水率\n",
    "・dphi：含水率の水分化学ポテンシャル微分  \n",
    "・ldp：透湿率  \n",
    "・ldml：水分化学ポテンシャル勾配に対する液相水分伝導率"
   ]
  },
  {
   "cell_type": "code",
   "execution_count": 2,
   "metadata": {},
   "outputs": [],
   "source": [
    "class  Cell():\n",
    "    def __init__( self, i ):\n",
    "        self.position = i\n",
    "    \n",
    "    # cell information\n",
    "    def setMaterial( self, initial=0.0 ):\n",
    "        self.material = initial\n",
    "    \n",
    "    def setDx( self, initial = 0.0 ):\n",
    "        self.dx = initial \n",
    "    \n",
    "    # initial condition\n",
    "    def setTemp( self, initial = 0.0 ):\n",
    "        self.temp = initial\n",
    "    \n",
    "    def setRH( self, initial=0.0  ):\n",
    "        self.rh = initial\n",
    "        \n",
    "    def setMiu( self, initial=0.0 ):\n",
    "        self.miu = initial\n",
    "        \n",
    "    def setPv( self, initial=0.0 ):\n",
    "        self.pv = initial\n",
    "        \n",
    "    # physical property\n",
    "    def setCRow( self, initial=0.0):\n",
    "        self.crow = initial\n",
    "    \n",
    "    def setLAM( self, initial=0.0):\n",
    "        self.lam = initial\n",
    "        \n",
    "    def setPhi( self, initial=0.0):\n",
    "        self.phi = initial\n",
    "    \n",
    "    def setDPhi( self, initial=0.0):\n",
    "        self.dphi = initial\n",
    "        \n",
    "    def setLDP(self,initial=0.0):\n",
    "        self.ldp = initial\n",
    "        \n",
    "    def setLDML( self, initial=0.0):\n",
    "        self.ldml = initial\n",
    "    "
   ]
  },
  {
   "cell_type": "code",
   "execution_count": 3,
   "metadata": {},
   "outputs": [
    {
     "name": "stdout",
     "output_type": "stream",
     "text": [
      "295.16\n"
     ]
    }
   ],
   "source": [
    "# 使用例\n",
    "c = [ Cell(i) for i in range(10)]\n",
    "\n",
    "[ c[i].setDx(0.01*i) for i in range(10)] \n",
    "[ c[i].setTemp(293.16+i) for i in range(10)]  \n",
    "[ c[i].setPv( mc.cal_RHtoPv( c[i].temp, 0.6 ) ) for i in range(10)] \n",
    "\n",
    "print(c[2].temp)"
   ]
  },
  {
   "cell_type": "markdown",
   "metadata": {},
   "source": [
    "#### クラス：Differential( mns, pls )  \n",
    "メッシュ間の差分情報を取得するクラス  \n",
    "mns：前のセル情報  \n",
    "pls：後のセル情報  \n",
    "dtemp：セル間の温度差（前－後）  \n",
    "dmoisture：セル間の水分量差（前－後）  \n",
    "dx2：セルの質点間の距離（前－後）  "
   ]
  },
  {
   "cell_type": "code",
   "execution_count": 4,
   "metadata": {},
   "outputs": [],
   "source": [
    "class Differential():\n",
    "    def __init__( self, mns, pls ):\n",
    "        self.mns = mns\n",
    "        self.pls = pls\n",
    "        \n",
    "    # 質点間の距離\n",
    "    def cal_Dx2( self, L ):\n",
    "        if self.mns.position == 0:\n",
    "            self.dx2 = self.mns.dx + self.pls.dx / 2.0\n",
    "        elif self.pls.position == L-1:\n",
    "            self.dx2 = self.mns.dx / 2.0 + self.pls.dx\n",
    "        else :\n",
    "            self.dx2 = self.mns.dx / 2.0 + self.pls.dx / 2.0\n",
    "        \n",
    "    def cal_DTemp( self ):\n",
    "        self.temp = self.mns.temp - self.pls.temp\n",
    "        \n",
    "    def cal_DMiu( self ):\n",
    "        self.miu = self.mns.miu - self.pls.miu\n",
    "        \n",
    "    def cal_DPv( self ):\n",
    "        self.pv = self.mns.pv - self.pls.pv\n",
    "    \n",
    "    # 物性値の調和平均\n",
    "    def cal_DLAM( self ):\n",
    "        self.lam = ( self.mns.dx * self.mns.lam + self.pls.dx * self.pls.lam ) / ( self.mns.dx + self.pls.dx )\n",
    "        \n",
    "    def cal_DLDP( self ):\n",
    "        self.ldp = ( self.mns.dx * self.mns.ldp + self.pls.dx * self.pls.ldp ) / ( self.mns.dx + self.pls.dx )\n",
    "        \n",
    "    def cal_DLDML( self ):\n",
    "        self.ldml = ( self.mns.dx * self.mns.ldml + self.pls.dx * self.pls.ldml ) / ( self.mns.dx + self.pls.dx )\n",
    "        "
   ]
  },
  {
   "cell_type": "code",
   "execution_count": 5,
   "metadata": {},
   "outputs": [
    {
     "data": {
      "text/plain": [
       "0.035"
      ]
     },
     "execution_count": 5,
     "metadata": {},
     "output_type": "execute_result"
    }
   ],
   "source": [
    "# 使用例\n",
    "diff = [ Differential( c[i], c[i+1] ) for i in range ( 9 ) ]\n",
    "[ diff[i].cal_Dx2( 10 ) for i in range( 9 ) ] \n",
    "diff[3].dx2"
   ]
  },
  {
   "cell_type": "markdown",
   "metadata": {},
   "source": [
    "#### 第二種・第三種境界条件において材料境界と材料内の流量を結合する関数  \n",
    "Flux：境界以外の流量  \n",
    "StartFlux：端点（マイナス側）の流量  \n",
    "EndFlux：端点（プラス側）の流量  \n",
    "計算結果：[StartFlux + Flux + EndFlux ]"
   ]
  },
  {
   "cell_type": "code",
   "execution_count": 6,
   "metadata": {},
   "outputs": [],
   "source": [
    "def sumFlux( Flux, StartFlux, EndFlux ):\n",
    "    Flux = np.insert( Flux, 0, StartFlux)\n",
    "    Flux = np.insert( Flux, (len(Flux)), EndFlux )\n",
    "    return Flux"
   ]
  },
  {
   "cell_type": "code",
   "execution_count": 7,
   "metadata": {},
   "outputs": [
    {
     "data": {
      "text/plain": [
       "array([10.,  1.,  2.,  1.,  2., 20.])"
      ]
     },
     "execution_count": 7,
     "metadata": {},
     "output_type": "execute_result"
    }
   ],
   "source": [
    "# 使用例\n",
    "flux = np.array([1.0, 2.0, 1.0, 2.0])\n",
    "startflux = 10.0\n",
    "endflux = 20.0\n",
    "sumFlux( flux, startflux, endflux)        "
   ]
  },
  {
   "cell_type": "markdown",
   "metadata": {},
   "source": [
    "####  クラス：Calculation( cell, diff )\n",
    "ここでは気相は水蒸気圧で、液相は水分化学ポテンシャル勾配で移動するとした\n",
    "\n",
    "コンストラクタ（__init__）:  \n",
    "差分計算用に温湿度・物性情報を差分化する  \n",
    "\n",
    "Flux():  \n",
    "セル間の流量を計算する\n",
    "流量自体は「クラス名.q」や「クラス名.j」で取得できる  \n",
    "\n",
    "balanceEquation():  \n",
    "セルにおける熱・水分の収支計算を行う  \n",
    "\n",
    "replace():\n",
    "セルの温度・水分情報の更新を行う\n"
   ]
  },
  {
   "cell_type": "code",
   "execution_count": 16,
   "metadata": {},
   "outputs": [],
   "source": [
    "class Calculation():\n",
    "    \n",
    "    def __init__( self, cell, diff):\n",
    "        \n",
    "        self.L = len(cell)\n",
    "        self.cell = cell\n",
    "        self.diff = diff\n",
    "        \n",
    "        # 物性値の取得 \n",
    "        pro  = [ prop.PhysicalProperty( cell[i].material, cell[i].temp, cell[i].miu )  for i in range(L)]\n",
    "        [ cell[i].setCRow( pro[i].CRow() ) for i in range( L )]\n",
    "        [ cell[i].setDPhi( pro[i].DPhi() ) for i in range( L )]\n",
    "        [ cell[i].setLAM(  pro[i].LAM()  ) for i in range( L )]\n",
    "        [ cell[i].setLDP(  pro[i].DP()  ) for i in range( L )]\n",
    "        [ cell[i].setLDML( pro[i].LDML() ) for i in range( L )]\n",
    "\n",
    "        # 差分計算 クラス：Differentialのコンストラクタで一括定義するほうが早い\n",
    "        [ self.diff[i].cal_DTemp() for i in range( L-1 ) ] \n",
    "        [ self.diff[i].cal_DMiu()  for i in range( L-1 ) ] \n",
    "        [ self.diff[i].cal_DPv()   for i in range( L-1 ) ] \n",
    "\n",
    "        # 物性値の差分化\n",
    "        [ self.diff[i].cal_DLAM() for i in range( L-1 ) ] \n",
    "        [ self.diff[i].cal_DLDP()  for i in range( L-1 ) ] \n",
    "        [ self.diff[i].cal_DLDML()   for i in range( L-1 ) ] \n",
    "\n",
    "    # 流量計算 \n",
    "    def Flux( self, ALO, ALI, tempOut, tempIn, ALDPO, ALDPI, pvOut, pvIn ):\n",
    "        # 熱流\n",
    "        q_sol =  [ Flux.heatConduction( self.diff[i].lam, self.diff[i].temp, self.diff[i].dx2 )  for i in range(self.L-1) ]\n",
    "        qmns = Flux.heatConvection( ALO, tempIn - self.cell[0].temp )       # 材料境界\n",
    "        qpls = Flux.heatConvection( ALI, self.cell[L-1].temp - tempOut )   # 材料境界\n",
    "        # 統合\n",
    "        self.q = sumFlux( q_sol, qmns, qpls ) # 潜熱変化量入れてない\n",
    "\n",
    "        # 水分流\n",
    "        jv_sol = np.array( [Flux.vapourTransfer_pressure( self.diff[i].ldp, self.diff[i].pv, self.diff[i].dx2 ) for i in range( (self.L) - 1) ])  \n",
    "        jl_sol = np.array( [Flux.liquidTransfer_potential( self.diff[i].ldml, self.diff[i].miu, self.diff[i].dx2, 0.0 ) for i in range( (self.L) - 1) ])\n",
    "        jvmns = Flux.vapourConvection_pressure( ALDPO, pvIn - self.cell[0].pv )     # 材料境界\n",
    "        jvpls = Flux.vapourConvection_pressure( ALDPO, self.cell[L-1].pv - pvOut )  # 材料境界\n",
    "        # 統合\n",
    "        self.j = sumFlux( jv_sol + jl_sol , jvmns, jvpls) #足すとき注意\n",
    "        \n",
    "    # 収支計算\n",
    "    def balanceEquation( self ):\n",
    "        balance = [ BalanceEquation.Calculation( self.cell[i].dx, dt ) for i in range(L)]\n",
    "        \n",
    "        # 熱収支\n",
    "        self.dq    = [ ( self.q[i] - self.q[i+1]) for i in range(L) ]\n",
    "        self.ntemp = [ balance[i].newtemp( self.cell[i].temp, self.dq[i], self.cell[i].crow ) for i in range(L) ]\n",
    "        \n",
    "        # 水分収支\n",
    "        self.dj    = [ ( self.j[i] - self.j[i+1]) for i in range(L) ]\n",
    "        self.nmiu  = [ balance[i].newmiu( self.cell[i].miu, self.dj[i], self.cell[i].dphi ) for i in range(L)  ]\n",
    "        \n",
    "    # 値の換算\n",
    "    def replace( self):\n",
    "        [ self.cell[i].setTemp( self.ntemp[i] ) for i in range( L ) ]\n",
    "        [ self.cell[i].setMiu(  self.nmiu[i]  ) for i in range( L ) ]\n",
    "        [ self.cell[i].setPv (  mc.cal_MiutoPv( self.ntemp[i], self.nmiu[i] ) ) for i in range( L ) ]\n",
    "        [ self.cell[i].setRH (  mc.cal_MiutoRH( self.ntemp[i], self.nmiu[i] ) ) for i in range( L ) ]"
   ]
  },
  {
   "cell_type": "markdown",
   "metadata": {},
   "source": [
    "### 値を取得するクラス  \n",
    "#### クラス : logger()  \n",
    "ある点の温度をlogging間隔ごとに取得するクラス  \n",
    "\n",
    "#### クラス：CrossSection()  \n",
    "ある時刻における全セルの状態を取得するクラス  "
   ]
  },
  {
   "cell_type": "code",
   "execution_count": 17,
   "metadata": {},
   "outputs": [],
   "source": [
    "class CrossSection():\n",
    "    def __init__( self, interval ):\n",
    "        self.interval = interval\n",
    "        self.times = []\n",
    "        self.cell  = []\n",
    "        \n",
    "    def writeData( self, t, cell, dt):\n",
    "        if t % self.interval == 0:\n",
    "            self.times.append( t * dt)\n",
    "            self.cell.append(cell)"
   ]
  },
  {
   "cell_type": "markdown",
   "metadata": {},
   "source": [
    "### 計算  \n",
    "\n",
    "#### 全体の流れ  \n",
    "\n",
    "・壁体構成の入力（物性情報、セルの大きさ・個数、初期温湿度）  \n",
    "・計算条件の入力（熱・水分の計算方法、境界条件）  \n",
    "・計算に必要な物性値の決定\n",
    "\n",
    "ループ計算内  \n",
    "\n",
    "・物性値の取得→換算（差分型へ）  \n",
    "・流量計算  \n",
    "・収支計算→値の変換  \n",
    "・値の取得（logging）  \n",
    "\n",
    "終了　→　グラフ化など\n"
   ]
  },
  {
   "cell_type": "code",
   "execution_count": 59,
   "metadata": {},
   "outputs": [
    {
     "name": "stdout",
     "output_type": "stream",
     "text": [
      "Initialization\n"
     ]
    }
   ],
   "source": [
    "L = 20\n",
    "dt = 0.1\n",
    "\n",
    "# 境界情報\n",
    "#nx = np.array([0.0]*L)\n",
    "tempIn = 290.15\n",
    "tempOut = 295.15\n",
    "pvIn = mc.cal_RHtoPv( tempIn, 0.78)\n",
    "pvOut= mc.cal_RHtoPv( tempOut, 0.82)\n",
    "ALO = 18.3+ 4.4\n",
    "ALI = 4.9 + 4.4\n",
    "ALDPO = 18.3 / ( 1005.0 * 1.205 * ( 8314.41 / 18.02 ) * 293.15 ) \n",
    "ALDPI = 4.9 / ( 1005.0 * 1.205 * ( 8314.41 / 18.02 ) * 293.15 ) \n",
    "\n",
    "# セル情報のセッティング\n",
    "\n",
    "cell = [ Cell(i) for i in range( L ) ]\n",
    "[ cell[i].setMaterial( 'BentheimerSandstone' )for i in range( L ) ]\n",
    "[ cell[i].setDx( 0.001 )      for i in range( L ) ]\n",
    "[ cell[i].setTemp( 293.16 )   for i in range( L ) ]\n",
    "[ cell[i].setRH( 0.8 )        for i in range( L ) ]\n",
    "[ cell[i].setMiu( mc.cal_RHtoMiu( cell[i].temp, cell[i].rh )) for i in range( L ) ]\n",
    "[ cell[i].setPv(  mc.cal_RHtoPv(  cell[i].temp, cell[i].rh )) for i in range( L ) ]\n",
    "\n",
    "# initialtemp is the initial temperatures at the cells in the wall\n",
    "# surfCond is the surface conductance at the both side surface of the wall (W/m2K)\n",
    "# composition is the material of the cells in the wall\n",
    "# material_porp is the material property list written in the dictionary style\n",
    "\n",
    "diff = [ Differential( cell[i], cell[i+1] ) for i in range (L-1) ]\n",
    "[ diff[i].cal_Dx2( L ) for i in range( L-1 ) ] \n",
    "\n",
    "# logging情報  \n",
    "log = CrossSection (60.0/dt)\n",
    "\n",
    "print('Initialization')"
   ]
  },
  {
   "cell_type": "code",
   "execution_count": 60,
   "metadata": {},
   "outputs": [],
   "source": [
    "#%timeit\n",
    "for i in range(10000):\n",
    "    cal = Calculation(cell, diff)\n",
    "    cal.Flux(ALO, ALI, tempOut, tempIn, ALDPO, ALDPI, pvOut, pvIn )\n",
    "    cal.balanceEquation()\n",
    "    cal.replace()\n",
    "    log.writeData( i, cell, dt )"
   ]
  },
  {
   "cell_type": "code",
   "execution_count": 61,
   "metadata": {},
   "outputs": [
    {
     "data": {
      "image/png": "[encoded data removed]",
      "text/plain": [
       "<matplotlib.figure.Figure at 0x1fad6f1c128>"
      ]
     },
     "metadata": {},
     "output_type": "display_data"
    }
   ],
   "source": [
    "# 参考（相対湿度ー水分化学ポテンシャル関係）\n",
    "# draw graph\n",
    "time = len(log.times)\n",
    "c = log.cell[time-1]\n",
    "temp = [ c[i].temp-273.15 for i in range(L) ]\n",
    "dx =   [ c[i].position*c[i].dx for i in range(L) ]\n",
    "\n",
    "fig = plt.figure(figsize=(15,4))\n",
    "ax = fig.add_subplot(1,1,1)\n",
    "ax.plot( dx, temp , label = log.times[time-1] )\n",
    "ax.set_xlabel( 'xlength', fontsize = 12 )\n",
    "ax.set_ylabel( 'temperature(K)', fontsize = 12 )\n",
    "plt.legend()\n",
    "plt.show()\n"
   ]
  },
  {
   "cell_type": "code",
   "execution_count": null,
   "metadata": {},
   "outputs": [],
   "source": []
  }
 ],
 "metadata": {
  "kernelspec": {
   "display_name": "Python 3",
   "language": "python",
   "name": "python3"
  },
  "language_info": {
   "codemirror_mode": {
    "name": "ipython",
    "version": 3
   },
   "file_extension": ".py",
   "mimetype": "text/x-python",
   "name": "python",
   "nbconvert_exporter": "python",
   "pygments_lexer": "ipython3",
   "version": "3.6.4"
  }
 },
 "nbformat": 4,
 "nbformat_minor": 2
}

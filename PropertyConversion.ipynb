{
 "cells": [
  {
   "cell_type": "code",
   "execution_count": 71,
   "metadata": {},
   "outputs": [],
   "source": [
    "import numpy as np\n",
    "import chemical_potential\n",
    "import vapour_pressure as vp\n",
    "import BentheimerSandstone"
   ]
  },
  {
   "cell_type": "markdown",
   "metadata": {},
   "source": [
    "### 水分状態を換算するクラス  \n",
    "換算する前の水分状態と換算後の水分状態を指定し、温度と水分状態を与えることで値を換算するクラス  \n",
    "$T$：絶対温度[K]  \n",
    "$R_v$：水蒸気の気体定数  \n",
    "$RH$：相対湿度[-]  \n",
    "$P_v$：水蒸気圧[Pa]  \n",
    "$P_{vs}$：飽和水蒸気圧[Pa]  \n",
    "$\\mu$：水分化学ポテンシャル[J/kg]  \n",
    "\n",
    "RH（相対湿度） - Pv（水蒸気圧）　関係  \n",
    "$RH = \\frac{P_v}{P_{vs}}$  \n",
    "\n",
    "RH（相対湿度） - Miu（水分化学ポテンシャル）　関係  \n",
    "$\\mu = R_v T log(RH)$"
   ]
  },
  {
   "cell_type": "code",
   "execution_count": 72,
   "metadata": {},
   "outputs": [],
   "source": [
    "### 水分状態を換算するクラス ######################\n",
    "class MoistureConversion():\n",
    "    Rv = 8316.0/18.016\n",
    "    def __init__(self, moistureIndexBefore, moistureIndexAfter):\n",
    "        self.B = moistureIndexBefore\n",
    "        self.A = moistureIndexAfter\n",
    "        \n",
    "    def convert(self, tem, moisture):\n",
    "#   RH（相対湿度） - Pv（水蒸気圧）　関係\n",
    "        if self.B == 'RH' and self.A =='Pv':\n",
    "            pv = moisture* vp.Pvs(tem) \n",
    "            return pv\n",
    "        elif self.B == 'Pv' and self.A =='RH':\n",
    "            rh = moisture/ vp.Pvs(tem) \n",
    "            return rh\n",
    "#   RH（相対湿度） - Miu（水分化学ポテンシャル）　関係\n",
    "        elif self.B == 'RH' and self.A =='Miu':\n",
    "            miu = self.Rv * tem* np.log(moisture) \n",
    "            return miu\n",
    "        elif self.B == 'Miu' and self.A =='RH':\n",
    "            rh = np.exp(moisture/(self.Rv*tem))\n",
    "            return rh\n",
    "#   Pv（水蒸気圧） - Miu（水分化学ポテンシャル）　関係\n",
    "        elif self.B == 'Pv' and self.A =='Miu':\n",
    "            miu = self.Rv * tem* np.log(moisture/vp.Pvs(tem)) \n",
    "            return miu\n",
    "        elif self.B == 'Miu' and self.A =='Pv':\n",
    "            pv = vp.Pvs(tem)*np.exp(moisture/(self.Rv*tem))\n",
    "            return pv\n",
    "#   換算が要らない場合\n",
    "        elif self.B == self.A:\n",
    "            return moisture\n",
    "        else : \n",
    "            raise ValueError('各物性クラスのmoistureIndexには、「RH」か「Pv」,「Miu」を指定しください。')\n",
    "################################################"
   ]
  },
  {
   "cell_type": "code",
   "execution_count": 73,
   "metadata": {},
   "outputs": [
    {
     "data": {
      "text/plain": [
       "0.988975971012088"
      ]
     },
     "execution_count": 73,
     "metadata": {},
     "output_type": "execute_result"
    }
   ],
   "source": [
    "# 使用例\n",
    "c = MoistureConversion('Miu','RH')\n",
    "c.convert(293.15, -1500.0)"
   ]
  },
  {
   "cell_type": "markdown",
   "metadata": {},
   "source": [
    "### 物性値を取得するクラス  \n",
    "各物性値ファイルに存在する物性値を元の形式のまま取得してくるクラス。  \n",
    "\n",
    "#### 実験から熱水分物性値として考えられるもの  \n",
    "【参考】建築材料の熱・空気・湿気物性値，日本建築学会，丸善株式会社，2001など\n",
    "\n",
    "#### 熱物性値  \n",
    "$q$：単位時間当たりの熱流量の密度[W/m2]  \n",
    "$\\rho_0$：密度[kg/m3]  \n",
    "$c_0$：比熱[J/kg K]  \n",
    "$c_0\\rho_0$：容積熱容量[J/m3 K]  \n",
    "\n",
    "$\\lambda$：熱伝導率[W/mK]  \n",
    "定義：$q = -\\lambda・grad\\space T$  \n",
    "\n",
    "$R$：熱抵抗[Km2/W]  \n",
    "\n",
    "#### 水分物性値  \n",
    "$m_v$：単位時間当たりの水蒸気流量の密度[kg/m2 s]  \n",
    "$m_m$：単位時間当たりの水分流量の密度[kg/m2 s]  \n",
    "$\\phi$：含水率[m3/m3]  \n",
    "他標記として$w$[kg/m3]、$u$[kg/kg]など  \n",
    "$S$：飽和度[-]  \n",
    "#### 気相水分伝導率  \n",
    "$\\delta_p$：透湿率[kg/m Pa s]　文中記号DP  \n",
    "定義：$m_v = -\\delta_p・grad\\space p_v$  \n",
    "\n",
    "$Z_p$：湿気抵抗[m2Pa s/kg]  \n",
    "$\\delta_v$：水蒸気の拡散係数[m2/s]  \n",
    "定義：$m_v = -\\delta_v・grad\\space \\rho_v$\n",
    "\n",
    "$k_T$：温度勾配水分伝導率[kg/m K s]  \n",
    "定義：$m_m = -k_T・grad\\space T$  \n",
    "\n",
    "$D_T$：温度勾配水分拡散係数[m2/K s]  \n",
    "定義：$m_m = -\\rho_0 D_T・grad\\space T$  \n",
    "\n",
    "$\\lambda^{'}_{\\mu g}$：水分化学ポテンシャル勾配に対する気相水分伝導率[kg/ms (J/kg)]  \n",
    "定義：$m_v = -\\lambda^{'}_{\\mu g}・grad\\space \\mu$\n",
    "\n",
    "$\\lambda^{'}_{Tg}$：温度勾配に対する気相水分伝導率[kg/ms K]  \n",
    "定義：$m_v = -\\lambda^{'}_{Tg}・grad\\space \\mu$\n",
    "\n",
    "#### 液相水分伝導率  \n",
    "$k_m$：水分伝導率[kg/m Pa s]  \n",
    "定義：$m_m = -k_m・grad\\space s$\n",
    "\n",
    "$D_w$：水分拡散係数[m2/s]  \n",
    "定義：$m_m = -\\rho_0 D_w・grad\\space u$  \n",
    "\n",
    "$\\lambda^{'}_{\\mu l}$：水分化学ポテンシャル勾配に対する液相水分伝導率[kg/ms (J/kg)]  \n",
    "定義：$m_v = -\\lambda^{'}_{\\mu l}・grad\\space \\mu$\n",
    "\n",
    "#### 空気の拡散係数  \n",
    "$k_a$：透気率[m2/Ks]  \n",
    "\n",
    "\n",
    "※新しい基準で物性値を測定した場合、本クラスに書き加えること\n"
   ]
  },
  {
   "cell_type": "code",
   "execution_count": 131,
   "metadata": {},
   "outputs": [],
   "source": [
    "### ある水分状態から物性値を読み取る（換算は無し）\n",
    "class GetMaterial():\n",
    "\n",
    "    # 新しく物性モジュールを作成した場合は、ここに追加してください。\n",
    "    mlist = {\n",
    "        '合板' : 'Plywood', #物性値ファイルの名前\n",
    "        'グラスウール' : 'GlassWool',\n",
    "        'BentheimerSandstone': 'BentheimerSandstone'\n",
    "    }\n",
    "    \n",
    "    # 問題は取ってきた物性値が何であるか（何に対する液相・気相水分伝導率であるか）\n",
    "    \n",
    "    def __init__(self, material,mainMoistureIndex):\n",
    "        if self.mlist[material] == 'BentheimerSandstone':\n",
    "            self.material = BentheimerSandstone.BentheimerSandstone()\n",
    "        elif self.mlist[material] == 'Plywood':\n",
    "            self.material = 0.0       #ダミー\n",
    "        else : \n",
    "            raise ValueError('各物性クラスのmaterialには、mlistおよびif文内に加えたstrを指定しください。')\n",
    "\n",
    "        self.list = self.material.component\n",
    "        self.B = mainMoistureIndex\n",
    "#        self.A = material.moistureIndex\n",
    "#        self.MC = MoistureConversion(self.B, self.A)\n"
   ]
  },
  {
   "cell_type": "code",
   "execution_count": 132,
   "metadata": {},
   "outputs": [
    {
     "name": "stdout",
     "output_type": "stream",
     "text": [
      "['crow', 'LAM', 'Phi', 'Miu', 'DL', 'LDP', 'DPhi']\n"
     ]
    }
   ],
   "source": [
    "# 使用例\n",
    "stone = GetMaterial('BentheimerSandstone',0)\n",
    "\n",
    "print(stone.list)\n",
    "#print(BentheimerSandstone.BentheimerSandstone().component)\n",
    "#print(stone.material,stone.list)"
   ]
  },
  {
   "cell_type": "markdown",
   "metadata": {},
   "source": [
    "### 取得した物性値を流量計算に適した形に換算するクラス"
   ]
  },
  {
   "cell_type": "code",
   "execution_count": 129,
   "metadata": {},
   "outputs": [],
   "source": [
    "class PropertyConversion(GetMaterial):\n",
    "    \n",
    "    row = 1000.0\n",
    "    grav = 9.806650\n",
    "    \n",
    "##########################################################\n",
    "#   熱容量\n",
    "    def crow(self, tem, moisture):\n",
    "        if 'crow' in self.list:\n",
    "            return self.material.crow( tem, self.MC.convert(self, tem, moisture) )\n",
    "#   熱伝導率\n",
    "    def LAM(self, tem, moisture ):\n",
    "        if 'LAM' in self.list:\n",
    "            return self.material.LAM( tem, self.MC.convert(self, tem, moisture) )\n",
    "    \n",
    "##########################################################\n",
    "#   水分容量（気相の水分状態（ポテンシャル・相対湿度など）から含水率への変換）\n",
    "    def phi(self, tem, moisture):\n",
    "        return self.material.phi( tem, self.MC.convert(self, tem, moisture) )\n",
    "#   含水率から気相の水分状態（ポテンシャル・相対湿度など）への変換）\n",
    "    def moisture(self, tem, phi):\n",
    "        return self.material.moisture( tem, phi )\n",
    "    \n",
    "#   水分化学ポテンシャル勾配に対する液相水分伝導率\n",
    "    def LDML(self, tem, moisture):\n",
    "        if 'LDML' in self.list:\n",
    "            return self.material.LDML( tem, self.MC.convert(self, tem, moisture) )\n",
    "        elif 'Dw' in self.list:\n",
    "            return row / grav * self.material.Dw( tem, self.MC.convert(self, tem, moisture) ) #ダミー　値を換算する\n",
    "        \n",
    "#   水分化学ポテンシャル勾配に対する気相水分伝導率\n",
    "    def LDMG(self, tem, moisture):\n",
    "        if 'LDMG' in self.list:\n",
    "            return self.material.LDMG( tem, phi )\n",
    "        elif 'DP' in self.list:\n",
    "            RH   = chemical_potential.RH_cal(Tem,Miu)  #ダミー \n",
    "            DPDM = chemical_potential.DPDM_cal(Tem,RH)#ダミー\n",
    "            LDMG = LDP*DPDM#ダミー\n",
    "            return LDMG#ダミー\n",
    "        \n",
    "#   温度勾配に対する気相水分伝導率\n",
    "    def LDTG(self, tem, moisture):\n",
    "        if 'LDTG' in self.list:\n",
    "            return self.material.LDMG( tem, phi )\n",
    "        elif 'DP' in self.list:    \n",
    "            RH   = chemical_potential.RH_cal(Tem,Miu) #仮\n",
    "            DPDT = chemical_potential.DPDT_cal(Tem,RH)#仮\n",
    "            LDTG = LDP*DPDT#仮\n",
    "            return LDTG#仮\n",
    "    \n",
    "#   含水率の水分化学ポテンシャル微分\n",
    "    def DPhi(self, tem,moisture):\n",
    "        return self.material.DPhi(tem, self.MC.convert(self, tem, moisture))\n",
    "\n",
    "################################################      \n"
   ]
  },
  {
   "cell_type": "code",
   "execution_count": null,
   "metadata": {},
   "outputs": [],
   "source": []
  }
 ],
 "metadata": {
  "kernelspec": {
   "display_name": "Python 3",
   "language": "python",
   "name": "python3"
  },
  "language_info": {
   "codemirror_mode": {
    "name": "ipython",
    "version": 3
   },
   "file_extension": ".py",
   "mimetype": "text/x-python",
   "name": "python",
   "nbconvert_exporter": "python",
   "pygments_lexer": "ipython3",
   "version": "3.6.4"
  }
 },
 "nbformat": 4,
 "nbformat_minor": 2
}

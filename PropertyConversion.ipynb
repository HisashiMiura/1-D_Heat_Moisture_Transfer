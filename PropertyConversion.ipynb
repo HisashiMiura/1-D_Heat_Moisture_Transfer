{
 "cells": [
  {
   "cell_type": "code",
   "execution_count": 3,
   "metadata": {},
   "outputs": [],
   "source": [
    "import numpy as np\n",
    "import chemical_potential\n",
    "import vapour_pressure as vp"
   ]
  },
  {
   "cell_type": "markdown",
   "metadata": {},
   "source": [
    "### 水分状態を換算するクラス  \n",
    "換算する前の水分状態と換算後の水分状態を指定し、温度と水分状態を与えることで値を換算するクラス  \n",
    "$T$：絶対温度[K]  \n",
    "$R_v$：水蒸気の気体定数  \n",
    "$RH$：相対湿度[-]  \n",
    "$P_v$：水蒸気圧[Pa]  \n",
    "$P_{vs}$：飽和水蒸気圧[Pa]  \n",
    "$\\mu$：水分化学ポテンシャル[J/kg]  \n",
    "\n",
    "RH（相対湿度） - Pv（水蒸気圧）　関係  \n",
    "$RH = \\frac{P_v}{P_{vs}}$  \n",
    "\n",
    "RH（相対湿度） - Miu（水分化学ポテンシャル）　関係  \n",
    "$\\mu = R_v T log(RH)$"
   ]
  },
  {
   "cell_type": "code",
   "execution_count": 8,
   "metadata": {},
   "outputs": [],
   "source": [
    "### 水分状態を換算するクラス ######################\n",
    "class MoistureConversion():\n",
    "    Rv = 8316.0/18.016\n",
    "    def __init__(self, moistureIndexBefore, moistureIndexAfter):\n",
    "        self.B = moistureIndexBefore\n",
    "        self.A = moistureIndexAfter\n",
    "        \n",
    "    def convert(self, tem, moisture):\n",
    "#   RH（相対湿度） - Pv（水蒸気圧）　関係\n",
    "        if self.B == 'RH' and self.A =='Pv':\n",
    "            pv = moisture* vp.Pvs(tem) \n",
    "            return pv\n",
    "        elif self.B == 'Pv' and self.A =='RH':\n",
    "            rh = moisture/ vp.Pvs(tem) \n",
    "            return rh\n",
    "#   RH（相対湿度） - Miu（水分化学ポテンシャル）　関係\n",
    "        elif self.B == 'RH' and self.A =='Miu':\n",
    "            miu = self.Rv * tem* np.log(moisture) \n",
    "            return miu\n",
    "        elif self.B == 'Miu' and self.A =='RH':\n",
    "            rh = np.exp(moisture/(self.Rv*tem))\n",
    "            return rh\n",
    "#   Pv（水蒸気圧） - Miu（水分化学ポテンシャル）　関係\n",
    "        elif self.B == 'Pv' and self.A =='Miu':\n",
    "            miu = self.Rv * tem* np.log(moisture/vp.Pvs(tem)) \n",
    "            return miu\n",
    "        elif self.B == 'Miu' and self.A =='Pv':\n",
    "            pv = vp.Pvs(tem)*np.exp(moisture/(self.Rv*tem))\n",
    "            return pv\n",
    "#   換算が要らない場合\n",
    "        elif self.B == self.A:\n",
    "            return moisture\n",
    "        else : \n",
    "            raise ValueError('各物性クラスのmoistureIndexには、「RH」か「Pv」,「Miu」を指定しください。')\n",
    "################################################"
   ]
  },
  {
   "cell_type": "code",
   "execution_count": 16,
   "metadata": {},
   "outputs": [
    {
     "data": {
      "text/plain": [
       "0.988975971012088"
      ]
     },
     "execution_count": 16,
     "metadata": {},
     "output_type": "execute_result"
    }
   ],
   "source": [
    "# 使用例\n",
    "c = MoistureConversion('Miu','RH')\n",
    "c.convert(293.15, -1500.0)"
   ]
  },
  {
   "cell_type": "markdown",
   "metadata": {},
   "source": [
    "### 物性値を取得するクラス  \n",
    "各物性値ファイルに存在する物性値を元の形式のまま取得してくるクラス。  \n",
    "問題点：  \n",
    "・ファイルにどの形式の物性値（例えば気相水分伝導率であっても圧力基準なのか密度基準なのか）がわからないこと  \n",
    "→物性値の形式がわからないため、ファイル中の関数名がわからない（ファイル中に何が入っているか記載しておく？）  \n",
    "→物性値の種類がどれだけ存在するかわからないため、クラス内に書ききれない（新しい物性値の種類が出た場合は随時追記する？）\n",
    "\n",
    "注：  \n",
    "物性値の種類  \n",
    "・含水率（相対湿度基準・ポテンシャル基準など）  \n",
    "・液相水分伝導率（含水率基準・ポテンシャル基準など）  \n",
    "・気相水分伝導率（含水率基準・相対湿度基準・ポテンシャル、温度基準など）"
   ]
  },
  {
   "cell_type": "code",
   "execution_count": 26,
   "metadata": {},
   "outputs": [],
   "source": [
    "### ある水分状態から物性値を読み取る（換算は無し）\n",
    "class GetMaterial():\n",
    "\n",
    "    # 新しく物性モジュールを作成した場合は、ここに追加してください。\n",
    "    mlist = {\n",
    "        '合板' : 'Plywood', #物性値ファイルの名前\n",
    "        'グラスウール' : 'GlassWool',\n",
    "        'BentheimerSandstone': 'Benstone'\n",
    "    }\n",
    "    \n",
    "    # 問題は取ってきた物性値が何であるか（何に対する液相・気相水分伝導率であるか）\n",
    "    \n",
    "    def __init__(self, material, mainMoistureIndex):\n",
    "        self.material = mlist[material]\n",
    "        self.B = mainMoistureIndex\n",
    "        self.A = material.moistureIndex\n",
    "        self.MC = MoistureConversion(self.B, self.A)\n",
    "\n",
    "##########################################################\n",
    "#   熱容量\n",
    "    def crow(self, tem, moisture):\n",
    "        return self.material.crow( tem, self.MC.convert(self, tem, moisture) )\n",
    "#   熱伝導率\n",
    "    def LAM(self, tem, moisture ):\n",
    "        return self.material.LAM( tem, self.MC.convert(self, tem, moisture) )\n",
    "    \n",
    "##########################################################\n",
    "#   水分容量（気相の水分状態（ポテンシャル・相対湿度など）から含水率への変換）\n",
    "    def phi(self, tem, moisture):\n",
    "        return self.material.phi( tem, self.MC.convert(self, tem, moisture) )\n",
    "#   含水率から気相の水分状態（ポテンシャル・相対湿度など）への変換）\n",
    "    def moisture(self, tem, phi):\n",
    "        return self.material.moisture( tem, phi )\n",
    "#   液相水分伝導率\n",
    "    def Pl(self, tem, moisture):\n",
    "        return self.material.Pl( tem, phi )\n",
    "#   気相水分伝導率\n",
    "    def Pg(self, tem, moisture):\n",
    "        return self.material.Pg( tem, phi )\n",
    "#   含水率の水分化学ポテンシャル微分\n",
    "    def DPhi(self, tem,moisture):\n",
    "        return self.material.DPhi(tem, self.MC.convert(self, tem, moisture))\n",
    "\n",
    "################################################\n"
   ]
  },
  {
   "cell_type": "markdown",
   "metadata": {},
   "source": [
    "### 取得した物性値を流量計算に適した形に換算するクラス（下書き）"
   ]
  },
  {
   "cell_type": "code",
   "execution_count": null,
   "metadata": {},
   "outputs": [],
   "source": [
    "      \n",
    "\n",
    "####################################################\n",
    "# 物性値の取得\n",
    "#   液相水分伝導率（基準：含水率　→　水分化学ポテンシャル）\n",
    "def LDML(self,DL):\n",
    "    return DL*row/g\n",
    "    \n",
    "#   気相水分伝導率（基準：水蒸気圧　→　水分化学ポテンシャル）\n",
    "def LDMG(self,Tem,Miu,LDP):\n",
    "    RH   = chemical_potential.RH_cal(Tem,Miu) \n",
    "    DPDM = chemical_potential.DPDM_cal(Tem,RH)\n",
    "    LDMG = LDP*DPDM\n",
    "    return LDMG\n",
    "\n",
    "#   気相水分伝導率（基準：水蒸気圧　→　温度）\n",
    "def LDTG(self,Tem,Miu,LDP):\n",
    "    RH   = chemical_potential.RH_cal(Tem,Miu) \n",
    "    DPDT = chemical_potential.DPDT_cal(Tem,RH)\n",
    "    LDTG = LDP*DPDT\n",
    "    return LDTG\n"
   ]
  }
 ],
 "metadata": {
  "kernelspec": {
   "display_name": "Python 3",
   "language": "python",
   "name": "python3"
  },
  "language_info": {
   "codemirror_mode": {
    "name": "ipython",
    "version": 3
   },
   "file_extension": ".py",
   "mimetype": "text/x-python",
   "name": "python",
   "nbconvert_exporter": "python",
   "pygments_lexer": "ipython3",
   "version": "3.6.4"
  }
 },
 "nbformat": 4,
 "nbformat_minor": 2
}

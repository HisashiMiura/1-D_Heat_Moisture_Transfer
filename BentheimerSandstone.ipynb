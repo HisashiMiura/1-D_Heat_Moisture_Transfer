{
 "cells": [
  {
   "cell_type": "code",
   "execution_count": 2,
   "metadata": {},
   "outputs": [],
   "source": [
    "#import matplotlib.pyplot as plt\n",
    "#import numpy as np\n",
    "import van_Genuchten as vG"
   ]
  },
  {
   "cell_type": "markdown",
   "metadata": {},
   "source": [
    "### Bentheimer Sandstoneの物性値  \n",
    "参考：V.Voronina, L. Pel and K. Kopinga: The influence of osmotic pressure on poulticing treatments for heritage objects, Material and Structures, vol.46, pp221-231, 2013  \n",
    "$\\phi_{max}$：空隙率[-]  \n",
    "$K_{sat}$：飽和透水係数  \n",
    "$\\lambda^{'}_P$：水蒸気圧勾配に対する気相水分伝導率  \n",
    "$\\rho$；材料の密度[kg/m3]  \n",
    "$C$：比熱[J/(kg・K)]  \n",
    "$\\rho$：水の密度[kg/m3]  \n",
    "$r$：水の相変化熱量  \n",
    "\n",
    "物性値を書く際における注意事項  \n",
    "・物性情報は必ず(tem:温度、moisture：水分状態)からなる関数する。（変数を必要としない場合でも書くこと）  \n",
    "・"
   ]
  },
  {
   "cell_type": "code",
   "execution_count": 4,
   "metadata": {},
   "outputs": [],
   "source": [
    "class BentheimerSandstone():\n",
    "    \n",
    "##########################################\n",
    "###     材料情報の入力        #############\n",
    "    Phimax = 0.23\n",
    "    Ksat   = 2.0e-7\n",
    "    LAMDP  = 2.0E-10\n",
    "    row  = 1479.25\n",
    "    C    = 750.0\n",
    "    \n",
    "    roww = 1000.0\n",
    "    r    = 4.18605E+3\n",
    "\n",
    "###     van-Genuchten用情報    ##########\n",
    "    Alfa = 10.0/98.0\n",
    "    n = 2.0\n",
    "    m = 1.0 -(1.0/n)\n",
    "    l = 0.5\n",
    "    \n",
    "###     水分を表す指標（水分化学ポテンシャル） ###\n",
    "    def __init__(self):\n",
    "        self.component = [\"crow\", \"LAM\", \"Phi\", \"Miu\", \"DL\", \"LDP\", \"DPhi\"]\n",
    "        self.moistureIndex = 'miu'\n",
    "        self.liquidTransfer = 'phi'\n",
    "        self.vapourTransfer = 'pv'\n",
    "    \n",
    "### 熱物性 ##############################\n",
    "#   熱容量\n",
    "    def crow(self,tem,miu):\n",
    "        return row*C +roww *Phi(self,tem,miu) *r    \n",
    "#   熱伝導率\n",
    "    def LAM(self,tem,miu):\n",
    "        return 1.2\n",
    "\n",
    "#######################################\n",
    "#   水分物性\n",
    "#   含水率 from 水分化学ポテンシャル\n",
    "    def Phi(self,tem,miu):\n",
    "        return vG.Phi(Phimax,Alfa, miu, m, n)\n",
    "#   水分化学ポテンシャル from 含水率\n",
    "    def Miu(self,tem,phi):\n",
    "        return vG.Miu(Phimax, phi, Alfa, m, n)                                              \n",
    "#   含水率勾配に関する液相水分伝導率\n",
    "    def DL(self,tem,miu):\n",
    "        return Ksat*vG.Kl(Alfa,miu,m,n,l)\n",
    "#   水蒸気圧勾配に関する気相水分伝導率\n",
    "    def DP(self,tem,miu):\n",
    "        Phi = Phi_cal(miu)\n",
    "        Sl = Phi/Phimax\n",
    "        LDP = LAMDP*(1.0-Sl*0.9)    #注意\n",
    "        return LDP\n",
    "    \n",
    "#   含水率のポテンシャル微分\n",
    "    def DPhi(self,tem,miu):\n",
    "        return vG.DPhi(Phimax,Alfa, miu, m, n)"
   ]
  },
  {
   "cell_type": "code",
   "execution_count": null,
   "metadata": {},
   "outputs": [],
   "source": [
    "#######################################\n",
    "###     物性値の確認     ###\n",
    "###     グラフの描画      ###\n",
    "#plt.xscale(\"log\")\n",
    "#plt.yscale(\"log\")\n",
    "#plt.grid(which=\"both\")\n",
    "#x  = np.arange(-1000000,0.0,1.0)\n",
    "#y = Phi_cal(x)\n",
    "#plt.plot(-x,y)\n",
    "#plt.show()\n",
    "###########################"
   ]
  }
 ],
 "metadata": {
  "kernelspec": {
   "display_name": "Python 3",
   "language": "python",
   "name": "python3"
  },
  "language_info": {
   "codemirror_mode": {
    "name": "ipython",
    "version": 3
   },
   "file_extension": ".py",
   "mimetype": "text/x-python",
   "name": "python",
   "nbconvert_exporter": "python",
   "pygments_lexer": "ipython3",
   "version": "3.6.4"
  }
 },
 "nbformat": 4,
 "nbformat_minor": 2
}

{
 "cells": [
  {
   "cell_type": "code",
   "execution_count": 1,
   "metadata": {},
   "outputs": [
    {
     "data": {
      "text/plain": [
       "<matplotlib.figure.Figure at 0x24b5fd63160>"
      ]
     },
     "metadata": {},
     "output_type": "display_data"
    }
   ],
   "source": [
    "#import matplotlib.pyplot as plt\n",
    "#import numpy as np\n",
    "import van_Genuchten as vG"
   ]
  },
  {
   "cell_type": "markdown",
   "metadata": {},
   "source": [
    "### Bentheimer Sandstoneの物性値  \n",
    "参考：V.Voronina, L. Pel and K. Kopinga: The influence of osmotic pressure on poulticing treatments for heritage objects, Material and Structures, vol.46, pp221-231, 2013  \n",
    "$\\phi_{max}$：空隙率[-]  \n",
    "$K_{sat}$：飽和透水係数  \n",
    "$\\lambda^{'}_P$：水蒸気圧勾配に対する気相水分伝導率  \n",
    "$\\rho$；材料の密度[kg/m3]  \n",
    "$C$：比熱[J/(kg・K)]  \n",
    "$\\rho$：水の密度[kg/m3]  \n",
    "$r$：水の相変化熱量  \n",
    "\n",
    "物性値を書く際における注意事項  \n",
    "・物性情報は必ず(tem:温度、moisture：水分状態)からなる関数する。（変数を必要としない場合でも書くこと）  \n",
    "・\n",
    "\n",
    "【理想】    \n",
    "・それぞれの名称を重複することなく一度定義で完結させれること。"
   ]
  },
  {
   "cell_type": "code",
   "execution_count": 2,
   "metadata": {},
   "outputs": [],
   "source": [
    "class Property():\n",
    "    \n",
    "##########################################\n",
    "###     材料情報の入力        #############\n",
    "    Phimax = 0.23\n",
    "    Ksat   = 2.0e-7\n",
    "    LAMDP  = 2.0E-10\n",
    "    row  = 1479.25\n",
    "    C    = 750.0\n",
    "    \n",
    "    roww = 1000.0\n",
    "    r    = 4.18605E+3\n",
    "\n",
    "###     van-Genuchten用情報    ##########\n",
    "    Alfa = 10.0/98.0\n",
    "    n = 2.0\n",
    "    m = 1.0 -(1.0/n)\n",
    "    l = 0.5\n",
    "    \n",
    "###     水分を表す指標（水分化学ポテンシャル） ###\n",
    "    def __init__(self):\n",
    "        self.proplist = {\n",
    "            'crow' : 'Miu', \n",
    "            'LAM' : 'Miu', \n",
    "            'Phi' : 'Miu', \n",
    "            'Miu' : 'Phi', \n",
    "            'Dw' : 'Miu', \n",
    "            'DP' : 'Miu', \n",
    "            'DPhi' : 'Miu'\n",
    "        }\n",
    "        \n",
    "### 熱物性 ##############################\n",
    "#   熱容量\n",
    "    def crow(self,tem,miu):\n",
    "        return self.row*self.C +self.row *self.Phi(tem,miu) *self.r    \n",
    "#   熱伝導率\n",
    "    def LAM(self,tem,miu):\n",
    "        return 1.2\n",
    "\n",
    "#######################################\n",
    "#   水分物性\n",
    "#   含水率 from 水分化学ポテンシャル\n",
    "    def Phi(self,tem,miu):\n",
    "        return vG.Phi(self.Phimax,self.Alfa, miu, self.m, self.n)\n",
    "#   水分化学ポテンシャル from 含水率\n",
    "    def Miu(self,tem,phi):\n",
    "        return vG.Miu(self.Phimax, phi, self.Alfa, self.m, self.n)                                              \n",
    "#   含水率勾配に関する液相水分伝導率\n",
    "    def Dw(self,tem,miu):\n",
    "        return self.Ksat*vG.Kl(self.Alfa ,miu ,self.m ,self.n ,self.l)\n",
    "#   水蒸気圧勾配に関する気相水分伝導率\n",
    "    def DP(self,tem,miu):\n",
    "        Phi = self.Phi(tem,miu)\n",
    "        Sl = Phi/self.Phimax\n",
    "        return self.LAMDP*(1.0-Sl*0.9)\n",
    "    \n",
    "#   含水率のポテンシャル微分\n",
    "    def DPhi(self,tem,miu):\n",
    "        return vG.DPhi(self.Phimax ,self.Alfa , miu, self.m, self.n)"
   ]
  },
  {
   "cell_type": "code",
   "execution_count": 3,
   "metadata": {},
   "outputs": [
    {
     "name": "stdout",
     "output_type": "stream",
     "text": [
      "{'crow': 'Miu', 'LAM': 'Miu', 'Phi': 'Miu', 'Miu': 'Phi', 'Dw': 'Miu', 'DP': 'Miu', 'DPhi': 'Miu'}\n",
      "2106282.314793056 1.2 0.16098357394272111 -2.988199933567902 1.3666027427457417e-08 7.401285517526175e-11 0.008211771778347334\n"
     ]
    }
   ],
   "source": [
    "# チェック\n",
    "m = Property()\n",
    "m.proplist\n",
    "tem = 293.15\n",
    "miu = -10.0\n",
    "print(m.proplist)\n",
    "print(m.crow(tem,miu),m.LAM(tem,miu),m.Phi(tem,miu),m.Miu(tem,0.22),m.Dw(tem,miu),m.DP(tem,miu),m.DPhi(tem,miu))"
   ]
  },
  {
   "cell_type": "code",
   "execution_count": 4,
   "metadata": {},
   "outputs": [],
   "source": [
    "#######################################\n",
    "###     物性値の確認     ###\n",
    "###     グラフの描画      ###\n",
    "#plt.xscale(\"log\")\n",
    "#plt.yscale(\"log\")\n",
    "#plt.grid(which=\"both\")\n",
    "#x  = np.arange(-1000000,0.0,1.0)\n",
    "#y = Phi_cal(x)\n",
    "#plt.plot(-x,y)\n",
    "#plt.show()\n",
    "###########################"
   ]
  },
  {
   "cell_type": "code",
   "execution_count": null,
   "metadata": {},
   "outputs": [],
   "source": []
  }
 ],
 "metadata": {
  "kernelspec": {
   "display_name": "Python 3",
   "language": "python",
   "name": "python3"
  },
  "language_info": {
   "codemirror_mode": {
    "name": "ipython",
    "version": 3
   },
   "file_extension": ".py",
   "mimetype": "text/x-python",
   "name": "python",
   "nbconvert_exporter": "python",
   "pygments_lexer": "ipython3",
   "version": "3.6.4"
  }
 },
 "nbformat": 4,
 "nbformat_minor": 2
}

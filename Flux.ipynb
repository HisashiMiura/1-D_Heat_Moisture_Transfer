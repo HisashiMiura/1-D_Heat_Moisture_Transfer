{
 "cells": [
  {
   "cell_type": "code",
   "execution_count": 1,
   "metadata": {},
   "outputs": [],
   "source": [
    "import numpy as np"
   ]
  },
  {
   "cell_type": "markdown",
   "metadata": {},
   "source": [
    "## 流量計算をするモデュール  "
   ]
  },
  {
   "cell_type": "markdown",
   "metadata": {},
   "source": [
    "#### フーリエの熱伝導  \n",
    "定義：$\\dot q = -\\lambda\\nabla・T$  \n",
    "$\\dot q$：単位時間当たりの熱流量の密度[W/m2]  \n",
    "$\\lambda$：熱伝導率[W/mK]  \n",
    "$T$：絶対温度[K]  "
   ]
  },
  {
   "cell_type": "code",
   "execution_count": 2,
   "metadata": {},
   "outputs": [],
   "source": [
    "def heatConduction( LAM, dtemp, dx2 ):\n",
    "    return LAM * dtemp / dx2"
   ]
  },
  {
   "cell_type": "code",
   "execution_count": 11,
   "metadata": {},
   "outputs": [
    {
     "data": {
      "text/plain": [
       "20000.0"
      ]
     },
     "execution_count": 11,
     "metadata": {},
     "output_type": "execute_result"
    }
   ],
   "source": [
    "heatConduction( 10.0, 2.0, 0.001)"
   ]
  },
  {
   "cell_type": "markdown",
   "metadata": {},
   "source": [
    "#### 熱伝達  \n",
    "定義：$\\dot q = -\\alpha \\Delta T$    \n",
    "$\\alpha$：熱伝達率[W/m2K]  "
   ]
  },
  {
   "cell_type": "code",
   "execution_count": 3,
   "metadata": {},
   "outputs": [],
   "source": [
    "def heatConvection( AL, dtemp ):\n",
    "    return AL * dtemp"
   ]
  },
  {
   "cell_type": "markdown",
   "metadata": {},
   "source": [
    "#### 熱伝導+相変化  \n",
    "定義：$\\dot q = -\\lambda\\nabla・T+ rW$  \n",
    "$r$：相変化熱量[J/kg]  \n",
    "$W$：水分の相変化量[kg/m3s] "
   ]
  },
  {
   "cell_type": "code",
   "execution_count": 4,
   "metadata": {},
   "outputs": [],
   "source": [
    "def ratentHeat( temp, W ):\n",
    "    r = ( 597.5 - 0.559 * ( temp - 273.16 ) ) * 4186.05\n",
    "    return r * W"
   ]
  },
  {
   "cell_type": "markdown",
   "metadata": {},
   "source": [
    "#### 気相水分流（水蒸気圧勾配・固体内）  \n",
    "定義：$J_v = -\\lambda^{'}_{p}\\nabla・P_v$  \n",
    "$J_v$：気相水分流量[kg/m2s]  \n",
    "$\\lambda^{'}_{p}$：水蒸気圧勾配に関する気相水分伝導率[kg/msPa]  \n",
    "$P_v$：水蒸気圧[Pa]  "
   ]
  },
  {
   "cell_type": "code",
   "execution_count": 5,
   "metadata": {},
   "outputs": [],
   "source": [
    "def vapourTransfer_pressure( LDP, dpv, dx2 ):\n",
    "    return LDP * dpv /dx2"
   ]
  },
  {
   "cell_type": "markdown",
   "metadata": {},
   "source": [
    "#### 気相水分流（水蒸気圧勾配・空気）  \n",
    "定義：$J_v = -\\alpha^{'}_{p}\\Delta・P_v$  \n",
    "$\\alpha^{'}_{p}$：水分伝達率[kg/m2sPa]  "
   ]
  },
  {
   "cell_type": "code",
   "execution_count": 6,
   "metadata": {},
   "outputs": [],
   "source": [
    "def vapourConvection_pressure( ALDP, dpv ):\n",
    "    return ALDP * dpv"
   ]
  },
  {
   "cell_type": "markdown",
   "metadata": {},
   "source": [
    "#### 気相水分流（水分化学ポテンシャル勾配・固体内）  \n",
    "定義：$J_v = -\\lambda^{'}_{\\mu g}(\\nabla・\\mu+n_x g)-\\lambda^{'}_{Tg}\\nabla・T$  \n",
    "$\\lambda^{'}_{\\mu g}$：水分化学ポテンシャル勾配に関する気相水分伝導率[kg/ms(J/kg)]  \n",
    "$\\lambda^{'}_{T g}  $：温度勾配に関する気相水分伝導率[kg/msK]  \n",
    "$\\mu$：水分化学ポテンシャル[J/kg]  \n",
    "$n_x$：重力加速度に対する応答[-]（1なら垂直下向き、0なら水平方向）  \n",
    "$g$：重力加速度  "
   ]
  },
  {
   "cell_type": "code",
   "execution_count": 7,
   "metadata": {},
   "outputs": [],
   "source": [
    "def vapourConvection_potential( LDMG, LDTG, dtemp, dmiu, dx2, nx ):\n",
    "    grav = 9.806650\n",
    "    return LDMG * ( dmiu / dx2 - nx * grav ) + LDTG * dtemp / dx2"
   ]
  },
  {
   "cell_type": "markdown",
   "metadata": {},
   "source": [
    "#### 液相水分流（含水率勾配・固体内）  \n",
    "定義：$J_l = -D_w\\nabla・\\phi$  \n",
    "$J_l$：液相水分流量[kg/m2s]  \n",
    "$D_w$：含水率勾配に関する液相水分伝導率[kg/m2s]  \n",
    "$\\phi$：含水率[Pa]  "
   ]
  },
  {
   "cell_type": "code",
   "execution_count": 8,
   "metadata": {},
   "outputs": [],
   "source": [
    "def liquidTransfer_waterContent( Dw, dphi, dx2, nx ):\n",
    "    grav = 9.806650\n",
    "    return Dw * dphi / dx2 # 重力は？"
   ]
  },
  {
   "cell_type": "markdown",
   "metadata": {},
   "source": [
    "#### 液相水分流（水分化学ポテンシャル勾配・固体内）  \n",
    "定義：$J_l = -\\lambda^{'}_{\\mu l}(\\nabla・\\mu+n_x g)$  \n",
    "$\\lambda^{'}_{\\mu l}$：水分化学ポテンシャル勾配に関する液相水分伝導率[kg/ms(J/kg)]  "
   ]
  },
  {
   "cell_type": "code",
   "execution_count": 9,
   "metadata": {},
   "outputs": [],
   "source": [
    "def liquidTransfer_potential( LDML, dmiu, dx2, nx ):\n",
    "    grav = 9.806650\n",
    "    return LDML * ( dmiu / dx2 - nx * grav)"
   ]
  },
  {
   "cell_type": "markdown",
   "metadata": {},
   "source": [
    "流量計算をまとめるクラス（実装予定）"
   ]
  },
  {
   "cell_type": "code",
   "execution_count": 10,
   "metadata": {},
   "outputs": [],
   "source": [
    "#class Flux():\n",
    "#    grav = 9.806650\n",
    "#    Mw = 18.02\n",
    "    \n",
    "    # 計算に必要な係数\n",
    "##    flist = {\n",
    "#        'フーリエ' : 'LAM',\n",
    "#        '熱伝達' : 'AL',\n",
    "#        '熱伝導+相変化熱' : 'LAM',\n",
    "        \n",
    "#        '水蒸気圧勾配（固体内）': 'DP',\n",
    "#        '水蒸気圧勾配（空気）': 'ALDP',\n",
    "#        '水分化学ポテンシャル勾配（固体内）': ['LDMG','LDTG'],\n",
    "#        '水分化学ポテンシャル勾配（空気）': ['LDMG','LDTG'],\n",
    "        \n",
    "#        '含水率勾配（固体内）': 'Dw',\n",
    "#        '水分化学ポテンシャル勾配（固体内）':'LDML',\n",
    "#        'なし': 'zero'\n",
    "#    }"
   ]
  }
 ],
 "metadata": {
  "kernelspec": {
   "display_name": "Python 3",
   "language": "python",
   "name": "python3"
  },
  "language_info": {
   "codemirror_mode": {
    "name": "ipython",
    "version": 3
   },
   "file_extension": ".py",
   "mimetype": "text/x-python",
   "name": "python",
   "nbconvert_exporter": "python",
   "pygments_lexer": "ipython3",
   "version": "3.6.4"
  }
 },
 "nbformat": 4,
 "nbformat_minor": 2
}
